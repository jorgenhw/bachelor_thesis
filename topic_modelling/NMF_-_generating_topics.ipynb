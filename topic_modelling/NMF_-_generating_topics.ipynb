{
 "cells": [
  {
   "attachments": {},
   "cell_type": "markdown",
   "metadata": {},
   "source": [
    "# Non-Negative Matrix Factorization (NMF)\n",
    "\n",
    "This notebook consists of two sections: \n",
    "\n",
    "1. Text pre-processing\n",
    "2. Implementing NMF and coherence scores\n",
    "\n",
    "This notebook is highly inspired by and sometimes directly copied from the NMF tutorial by [Derek Greene](https://github.com/derekgreene) available at his [GitHub Repository](https://github.com/derekgreene/topic-model-tutorial)."
   ]
  },
  {
   "attachments": {},
   "cell_type": "markdown",
   "metadata": {},
   "source": [
    "# 1. Text preprocessing"
   ]
  },
  {
   "attachments": {},
   "cell_type": "markdown",
   "metadata": {},
   "source": [
    "In this first section go through the steps involved in preprocessing our Twitter dataset using *scikit-learn*, which we will use in section for topic modelling."
   ]
  },
  {
   "cell_type": "code",
   "execution_count": 1,
   "metadata": {},
   "outputs": [],
   "source": [
    "from pathlib import Path\n",
    "import operator, joblib\n",
    "from sklearn.feature_extraction.text import CountVectorizer, TfidfVectorizer"
   ]
  },
  {
   "attachments": {},
   "cell_type": "markdown",
   "metadata": {},
   "source": [
    "### Loading the Documents"
   ]
  },
  {
   "attachments": {},
   "cell_type": "markdown",
   "metadata": {},
   "source": [
    "We will load these the Twitter data into a list, and also create a short snippet of text for each document."
   ]
  },
  {
   "cell_type": "code",
   "execution_count": 2,
   "metadata": {},
   "outputs": [
    {
     "name": "stdout",
     "output_type": "stream",
     "text": [
      "Read 5748 raw text documents\n"
     ]
    }
   ],
   "source": [
    "# Read data\n",
    "in_path = Path(\"data\") / \"tweets_data_temp.txt\"\n",
    "raw_documents = []\n",
    "snippets = []\n",
    "with open(in_path, \"r\") as fin:\n",
    "    for line in fin.readlines():\n",
    "        text = line.strip()\n",
    "        raw_documents.append( text )\n",
    "        # keep a short snippet of up to 100 characters as a title for each article\n",
    "        snippets.append( text[0:min(len(text),100)] )\n",
    "print(\"Read %d raw text documents\" % len(raw_documents))"
   ]
  },
  {
   "attachments": {},
   "cell_type": "markdown",
   "metadata": {},
   "source": [
    "### Creating a Document-Term Matrix"
   ]
  },
  {
   "attachments": {},
   "cell_type": "markdown",
   "metadata": {},
   "source": [
    "When preprocessing text, a common approach is to remove non-informative stopwords. The choice of stopwords can have a considerable impact later on. We will use a Danish stopword list by [Bertel Torp](https://gist.github.com/berteltorp) available at his [GitHub Repository](https://gist.github.com/berteltorp/0cf8a0c7afea7f25ed754f24cfc2467b)."
   ]
  },
  {
   "cell_type": "code",
   "execution_count": 3,
   "metadata": {},
   "outputs": [
    {
     "name": "stdout",
     "output_type": "stream",
     "text": [
      "Stopword list has 262 entries\n"
     ]
    }
   ],
   "source": [
    "in_path = Path(\"data\") / \"stopord.txt\"\n",
    "custom_stop_words = []\n",
    "with open( in_path, \"r\" ) as fin:\n",
    "    for line in fin.readlines():\n",
    "        custom_stop_words.append( line.strip() )\n",
    "# note that we need to make it hashable\n",
    "print(\"Stopword list has %d entries\" % len(custom_stop_words) )"
   ]
  },
  {
   "attachments": {},
   "cell_type": "markdown",
   "metadata": {},
   "source": [
    "In the *bag-of-words model*, each document is represented by a vector in a *m*-dimensional coordinate space, where *m* is number of unique terms across all documents. This set of terms is called the corpus *vocabulary*. \n",
    "\n",
    "Since each document can be represented as a term vector, we can stack these vectors to create a full *document-term matrix*. We can easily create this matrix from a list of document strings using *CountVectorizer* from Scikit-learn. The parameters passed to *CountVectorizer* control the pre-processing steps that it performs."
   ]
  },
  {
   "cell_type": "code",
   "execution_count": 4,
   "metadata": {},
   "outputs": [
    {
     "name": "stderr",
     "output_type": "stream",
     "text": [
      "/Users/wibe/Library/Python/3.8/lib/python/site-packages/sklearn/feature_extraction/text.py:409: UserWarning: Your stop_words may be inconsistent with your preprocessing. Tokenizing the stop words generated tokens ['bl', 'ca', 'eks', 'pga'] not in stop_words.\n",
      "  warnings.warn(\n"
     ]
    },
    {
     "name": "stdout",
     "output_type": "stream",
     "text": [
      "Created 5748 X 281 document-term matrix\n"
     ]
    }
   ],
   "source": [
    "# use a custom stopwords list, set the minimum term-document frequency to 20\n",
    "vectorizer = CountVectorizer(stop_words = custom_stop_words, min_df = 20)\n",
    "A = vectorizer.fit_transform(raw_documents)\n",
    "print( \"Created %d X %d document-term matrix\" % (A.shape[0], A.shape[1]) )"
   ]
  },
  {
   "attachments": {},
   "cell_type": "markdown",
   "metadata": {},
   "source": [
    "This process also builds a vocabulary for the corpus:"
   ]
  },
  {
   "cell_type": "code",
   "execution_count": 5,
   "metadata": {},
   "outputs": [
    {
     "name": "stdout",
     "output_type": "stream",
     "text": [
      "Vocabulary has 281 distinct terms\n"
     ]
    }
   ],
   "source": [
    "terms =  list(vectorizer.get_feature_names_out())\n",
    "print(\"Vocabulary has %d distinct terms\" % len(terms))"
   ]
  },
  {
   "cell_type": "markdown",
   "metadata": {},
   "source": []
  },
  {
   "attachments": {},
   "cell_type": "markdown",
   "metadata": {},
   "source": [
    "We can save this document-term matrix, terms, and snippets for later use using *Joblib* to persist the data."
   ]
  },
  {
   "cell_type": "code",
   "execution_count": 6,
   "metadata": {},
   "outputs": [
    {
     "data": {
      "text/plain": [
       "['articles-raw.pkl']"
      ]
     },
     "execution_count": 6,
     "metadata": {},
     "output_type": "execute_result"
    }
   ],
   "source": [
    "joblib.dump((A,terms,snippets), \"articles-raw.pkl\")"
   ]
  },
  {
   "attachments": {},
   "cell_type": "markdown",
   "metadata": {},
   "source": [
    "### Applying Term Weighting with TF-IDF"
   ]
  },
  {
   "attachments": {},
   "cell_type": "markdown",
   "metadata": {},
   "source": [
    "We can improve the usefulness of the document-term matrix by giving more weight to the more \"important\" terms. The most common normalisation is *term frequency–inverse document frequency* (TF-IDF). In Scikit-learn, we can generate at TF-IDF weighted document-term matrix by using *TfidfVectorizer* in place of *CountVectorizer*."
   ]
  },
  {
   "cell_type": "code",
   "execution_count": 7,
   "metadata": {},
   "outputs": [
    {
     "name": "stdout",
     "output_type": "stream",
     "text": [
      "Created 5748 X 281 TF-IDF-normalized document-term matrix\n"
     ]
    }
   ],
   "source": [
    "# we can pass in the same preprocessing parameters\n",
    "vectorizer = TfidfVectorizer(stop_words=custom_stop_words, min_df = 20)\n",
    "A = vectorizer.fit_transform(raw_documents)\n",
    "print( \"Created %d X %d TF-IDF-normalized document-term matrix\" % (A.shape[0], A.shape[1]) )"
   ]
  },
  {
   "cell_type": "code",
   "execution_count": 8,
   "metadata": {},
   "outputs": [
    {
     "name": "stdout",
     "output_type": "stream",
     "text": [
      "Vocabulary has 281 distinct terms\n"
     ]
    }
   ],
   "source": [
    "terms =  list(vectorizer.get_feature_names_out())\n",
    "print(\"Vocabulary has %d distinct terms\" % len(terms))"
   ]
  },
  {
   "attachments": {},
   "cell_type": "markdown",
   "metadata": {},
   "source": [
    "A simple characterisation that we might do would be to look at the terms with the highest TF-IDF scores across all documents in the document-term matrix. We can define such a function as follows:"
   ]
  },
  {
   "cell_type": "code",
   "execution_count": 9,
   "metadata": {},
   "outputs": [],
   "source": [
    "def rank_terms( A, terms ):\n",
    "    # get the sums over each column\n",
    "    sums = A.sum(axis=0)\n",
    "    # map weights to the terms\n",
    "    weights = {}\n",
    "    for col, term in enumerate(terms):\n",
    "        weights[term] = sums[0,col]\n",
    "    # rank the terms by their weight over all documents\n",
    "    return sorted(weights.items(), key=operator.itemgetter(1), reverse=True)"
   ]
  },
  {
   "cell_type": "code",
   "execution_count": 10,
   "metadata": {},
   "outputs": [],
   "source": [
    "#rank_terms(A,terms)"
   ]
  },
  {
   "attachments": {},
   "cell_type": "markdown",
   "metadata": {},
   "source": [
    "Again we will save this document-term matrix, terms, and snippets for topic modelling later using *Joblib*."
   ]
  },
  {
   "cell_type": "code",
   "execution_count": 11,
   "metadata": {},
   "outputs": [
    {
     "data": {
      "text/plain": [
       "['articles-tfidf.pkl']"
      ]
     },
     "execution_count": 11,
     "metadata": {},
     "output_type": "execute_result"
    }
   ],
   "source": [
    "joblib.dump((A,terms,snippets), \"articles-tfidf.pkl\") "
   ]
  },
  {
   "attachments": {},
   "cell_type": "markdown",
   "metadata": {},
   "source": [
    "# 2. NMF and coherence scores"
   ]
  },
  {
   "attachments": {},
   "cell_type": "markdown",
   "metadata": {},
   "source": [
    "This section will outline how to use coherence scores help selecting a useful value for the number of topics *k*.\n",
    "\n",
    "Note that this notebook requires v4 of the [Gensim package](https://radimrehurek.com/gensim) to be installed."
   ]
  },
  {
   "cell_type": "code",
   "execution_count": 12,
   "metadata": {},
   "outputs": [],
   "source": [
    "from pathlib import Path\n",
    "import re, joblib\n",
    "from itertools import combinations\n",
    "import numpy as np\n",
    "from sklearn import decomposition\n",
    "import gensim\n",
    "import matplotlib\n",
    "import matplotlib.pyplot as plt\n",
    "%matplotlib inline\n",
    "# settings for our plots later\n",
    "plt.style.use(\"ggplot\")\n",
    "matplotlib.rcParams.update({\"font.size\": 14})"
   ]
  },
  {
   "attachments": {},
   "cell_type": "markdown",
   "metadata": {},
   "source": [
    "First, let's load the TF-IDF normalised document-term matrix and list of terms that we stored earlier using *Joblib* (this file is also available in the ```data``` folder in the [GitHub repo](https://github.com/jorgenhw/bachelor_thesis/tree/master/topic_modelling/data)):"
   ]
  },
  {
   "cell_type": "code",
   "execution_count": 13,
   "metadata": {},
   "outputs": [
    {
     "name": "stdout",
     "output_type": "stream",
     "text": [
      "Loaded 5748 X 281 document-term matrix\n"
     ]
    }
   ],
   "source": [
    "(A,terms,snippets) = joblib.load(\"articles-tfidf.pkl\")\n",
    "print( \"Loaded %d X %d document-term matrix\" % (A.shape[0], A.shape[1]) )"
   ]
  },
  {
   "cell_type": "markdown",
   "metadata": {},
   "source": [
    "### Create the Topic Models"
   ]
  },
  {
   "cell_type": "markdown",
   "metadata": {},
   "source": [
    "A common approach for parameter selection is to Measure and compare the topic coherence of models generated for different values of *k*."
   ]
  },
  {
   "cell_type": "markdown",
   "metadata": {},
   "source": [
    "We need to start by pre-specifying an initial range of \"sensible\" values:"
   ]
  },
  {
   "cell_type": "code",
   "execution_count": 14,
   "metadata": {},
   "outputs": [],
   "source": [
    "kmin, kmax = 4, 100"
   ]
  },
  {
   "cell_type": "markdown",
   "metadata": {},
   "source": [
    "Apply NMF for each of these values:"
   ]
  },
  {
   "cell_type": "code",
   "execution_count": 15,
   "metadata": {},
   "outputs": [
    {
     "name": "stdout",
     "output_type": "stream",
     "text": [
      "Applying NMF for k=4 ...\n",
      "Applying NMF for k=5 ...\n",
      "Applying NMF for k=6 ...\n",
      "Applying NMF for k=7 ...\n",
      "Applying NMF for k=8 ...\n",
      "Applying NMF for k=9 ...\n",
      "Applying NMF for k=10 ...\n",
      "Applying NMF for k=11 ...\n",
      "Applying NMF for k=12 ...\n",
      "Applying NMF for k=13 ...\n",
      "Applying NMF for k=14 ...\n",
      "Applying NMF for k=15 ...\n",
      "Applying NMF for k=16 ...\n",
      "Applying NMF for k=17 ...\n",
      "Applying NMF for k=18 ...\n",
      "Applying NMF for k=19 ...\n"
     ]
    },
    {
     "name": "stderr",
     "output_type": "stream",
     "text": [
      "/Users/wibe/Library/Python/3.8/lib/python/site-packages/sklearn/decomposition/_nmf.py:1665: ConvergenceWarning: Maximum number of iterations 200 reached. Increase it to improve convergence.\n",
      "  warnings.warn(\n"
     ]
    },
    {
     "name": "stdout",
     "output_type": "stream",
     "text": [
      "Applying NMF for k=20 ...\n",
      "Applying NMF for k=21 ...\n",
      "Applying NMF for k=22 ...\n"
     ]
    },
    {
     "name": "stderr",
     "output_type": "stream",
     "text": [
      "/Users/wibe/Library/Python/3.8/lib/python/site-packages/sklearn/decomposition/_nmf.py:1665: ConvergenceWarning: Maximum number of iterations 200 reached. Increase it to improve convergence.\n",
      "  warnings.warn(\n"
     ]
    },
    {
     "name": "stdout",
     "output_type": "stream",
     "text": [
      "Applying NMF for k=23 ...\n"
     ]
    },
    {
     "name": "stderr",
     "output_type": "stream",
     "text": [
      "/Users/wibe/Library/Python/3.8/lib/python/site-packages/sklearn/decomposition/_nmf.py:1665: ConvergenceWarning: Maximum number of iterations 200 reached. Increase it to improve convergence.\n",
      "  warnings.warn(\n"
     ]
    },
    {
     "name": "stdout",
     "output_type": "stream",
     "text": [
      "Applying NMF for k=24 ...\n"
     ]
    },
    {
     "name": "stderr",
     "output_type": "stream",
     "text": [
      "/Users/wibe/Library/Python/3.8/lib/python/site-packages/sklearn/decomposition/_nmf.py:1665: ConvergenceWarning: Maximum number of iterations 200 reached. Increase it to improve convergence.\n",
      "  warnings.warn(\n"
     ]
    },
    {
     "name": "stdout",
     "output_type": "stream",
     "text": [
      "Applying NMF for k=25 ...\n",
      "Applying NMF for k=26 ...\n"
     ]
    },
    {
     "name": "stderr",
     "output_type": "stream",
     "text": [
      "/Users/wibe/Library/Python/3.8/lib/python/site-packages/sklearn/decomposition/_nmf.py:1665: ConvergenceWarning: Maximum number of iterations 200 reached. Increase it to improve convergence.\n",
      "  warnings.warn(\n"
     ]
    },
    {
     "name": "stdout",
     "output_type": "stream",
     "text": [
      "Applying NMF for k=27 ...\n"
     ]
    },
    {
     "name": "stderr",
     "output_type": "stream",
     "text": [
      "/Users/wibe/Library/Python/3.8/lib/python/site-packages/sklearn/decomposition/_nmf.py:1665: ConvergenceWarning: Maximum number of iterations 200 reached. Increase it to improve convergence.\n",
      "  warnings.warn(\n"
     ]
    },
    {
     "name": "stdout",
     "output_type": "stream",
     "text": [
      "Applying NMF for k=28 ...\n",
      "Applying NMF for k=29 ...\n",
      "Applying NMF for k=30 ...\n"
     ]
    },
    {
     "name": "stderr",
     "output_type": "stream",
     "text": [
      "/Users/wibe/Library/Python/3.8/lib/python/site-packages/sklearn/decomposition/_nmf.py:1665: ConvergenceWarning: Maximum number of iterations 200 reached. Increase it to improve convergence.\n",
      "  warnings.warn(\n"
     ]
    },
    {
     "name": "stdout",
     "output_type": "stream",
     "text": [
      "Applying NMF for k=31 ...\n",
      "Applying NMF for k=32 ...\n"
     ]
    },
    {
     "name": "stderr",
     "output_type": "stream",
     "text": [
      "/Users/wibe/Library/Python/3.8/lib/python/site-packages/sklearn/decomposition/_nmf.py:1665: ConvergenceWarning: Maximum number of iterations 200 reached. Increase it to improve convergence.\n",
      "  warnings.warn(\n"
     ]
    },
    {
     "name": "stdout",
     "output_type": "stream",
     "text": [
      "Applying NMF for k=33 ...\n",
      "Applying NMF for k=34 ...\n",
      "Applying NMF for k=35 ...\n"
     ]
    },
    {
     "name": "stderr",
     "output_type": "stream",
     "text": [
      "/Users/wibe/Library/Python/3.8/lib/python/site-packages/sklearn/decomposition/_nmf.py:1665: ConvergenceWarning: Maximum number of iterations 200 reached. Increase it to improve convergence.\n",
      "  warnings.warn(\n"
     ]
    },
    {
     "name": "stdout",
     "output_type": "stream",
     "text": [
      "Applying NMF for k=36 ...\n",
      "Applying NMF for k=37 ...\n"
     ]
    },
    {
     "name": "stderr",
     "output_type": "stream",
     "text": [
      "/Users/wibe/Library/Python/3.8/lib/python/site-packages/sklearn/decomposition/_nmf.py:1665: ConvergenceWarning: Maximum number of iterations 200 reached. Increase it to improve convergence.\n",
      "  warnings.warn(\n"
     ]
    },
    {
     "name": "stdout",
     "output_type": "stream",
     "text": [
      "Applying NMF for k=38 ...\n"
     ]
    },
    {
     "name": "stderr",
     "output_type": "stream",
     "text": [
      "/Users/wibe/Library/Python/3.8/lib/python/site-packages/sklearn/decomposition/_nmf.py:1665: ConvergenceWarning: Maximum number of iterations 200 reached. Increase it to improve convergence.\n",
      "  warnings.warn(\n"
     ]
    },
    {
     "name": "stdout",
     "output_type": "stream",
     "text": [
      "Applying NMF for k=39 ...\n",
      "Applying NMF for k=40 ...\n",
      "Applying NMF for k=41 ...\n"
     ]
    },
    {
     "name": "stderr",
     "output_type": "stream",
     "text": [
      "/Users/wibe/Library/Python/3.8/lib/python/site-packages/sklearn/decomposition/_nmf.py:1665: ConvergenceWarning: Maximum number of iterations 200 reached. Increase it to improve convergence.\n",
      "  warnings.warn(\n"
     ]
    },
    {
     "name": "stdout",
     "output_type": "stream",
     "text": [
      "Applying NMF for k=42 ...\n"
     ]
    },
    {
     "name": "stderr",
     "output_type": "stream",
     "text": [
      "/Users/wibe/Library/Python/3.8/lib/python/site-packages/sklearn/decomposition/_nmf.py:1665: ConvergenceWarning: Maximum number of iterations 200 reached. Increase it to improve convergence.\n",
      "  warnings.warn(\n"
     ]
    },
    {
     "name": "stdout",
     "output_type": "stream",
     "text": [
      "Applying NMF for k=43 ...\n",
      "Applying NMF for k=44 ...\n"
     ]
    },
    {
     "name": "stderr",
     "output_type": "stream",
     "text": [
      "/Users/wibe/Library/Python/3.8/lib/python/site-packages/sklearn/decomposition/_nmf.py:1665: ConvergenceWarning: Maximum number of iterations 200 reached. Increase it to improve convergence.\n",
      "  warnings.warn(\n"
     ]
    },
    {
     "name": "stdout",
     "output_type": "stream",
     "text": [
      "Applying NMF for k=45 ...\n",
      "Applying NMF for k=46 ...\n",
      "Applying NMF for k=47 ...\n"
     ]
    },
    {
     "name": "stderr",
     "output_type": "stream",
     "text": [
      "/Users/wibe/Library/Python/3.8/lib/python/site-packages/sklearn/decomposition/_nmf.py:1665: ConvergenceWarning: Maximum number of iterations 200 reached. Increase it to improve convergence.\n",
      "  warnings.warn(\n"
     ]
    },
    {
     "name": "stdout",
     "output_type": "stream",
     "text": [
      "Applying NMF for k=48 ...\n",
      "Applying NMF for k=49 ...\n"
     ]
    },
    {
     "name": "stderr",
     "output_type": "stream",
     "text": [
      "/Users/wibe/Library/Python/3.8/lib/python/site-packages/sklearn/decomposition/_nmf.py:1665: ConvergenceWarning: Maximum number of iterations 200 reached. Increase it to improve convergence.\n",
      "  warnings.warn(\n"
     ]
    },
    {
     "name": "stdout",
     "output_type": "stream",
     "text": [
      "Applying NMF for k=50 ...\n"
     ]
    },
    {
     "name": "stderr",
     "output_type": "stream",
     "text": [
      "/Users/wibe/Library/Python/3.8/lib/python/site-packages/sklearn/decomposition/_nmf.py:1665: ConvergenceWarning: Maximum number of iterations 200 reached. Increase it to improve convergence.\n",
      "  warnings.warn(\n"
     ]
    },
    {
     "name": "stdout",
     "output_type": "stream",
     "text": [
      "Applying NMF for k=51 ...\n"
     ]
    },
    {
     "name": "stderr",
     "output_type": "stream",
     "text": [
      "/Users/wibe/Library/Python/3.8/lib/python/site-packages/sklearn/decomposition/_nmf.py:1665: ConvergenceWarning: Maximum number of iterations 200 reached. Increase it to improve convergence.\n",
      "  warnings.warn(\n"
     ]
    },
    {
     "name": "stdout",
     "output_type": "stream",
     "text": [
      "Applying NMF for k=52 ...\n",
      "Applying NMF for k=53 ...\n"
     ]
    },
    {
     "name": "stderr",
     "output_type": "stream",
     "text": [
      "/Users/wibe/Library/Python/3.8/lib/python/site-packages/sklearn/decomposition/_nmf.py:1665: ConvergenceWarning: Maximum number of iterations 200 reached. Increase it to improve convergence.\n",
      "  warnings.warn(\n"
     ]
    },
    {
     "name": "stdout",
     "output_type": "stream",
     "text": [
      "Applying NMF for k=54 ...\n",
      "Applying NMF for k=55 ...\n",
      "Applying NMF for k=56 ...\n",
      "Applying NMF for k=57 ...\n",
      "Applying NMF for k=58 ...\n"
     ]
    },
    {
     "name": "stderr",
     "output_type": "stream",
     "text": [
      "/Users/wibe/Library/Python/3.8/lib/python/site-packages/sklearn/decomposition/_nmf.py:1665: ConvergenceWarning: Maximum number of iterations 200 reached. Increase it to improve convergence.\n",
      "  warnings.warn(\n"
     ]
    },
    {
     "name": "stdout",
     "output_type": "stream",
     "text": [
      "Applying NMF for k=59 ...\n"
     ]
    },
    {
     "name": "stderr",
     "output_type": "stream",
     "text": [
      "/Users/wibe/Library/Python/3.8/lib/python/site-packages/sklearn/decomposition/_nmf.py:1665: ConvergenceWarning: Maximum number of iterations 200 reached. Increase it to improve convergence.\n",
      "  warnings.warn(\n"
     ]
    },
    {
     "name": "stdout",
     "output_type": "stream",
     "text": [
      "Applying NMF for k=60 ...\n",
      "Applying NMF for k=61 ...\n"
     ]
    },
    {
     "name": "stderr",
     "output_type": "stream",
     "text": [
      "/Users/wibe/Library/Python/3.8/lib/python/site-packages/sklearn/decomposition/_nmf.py:1665: ConvergenceWarning: Maximum number of iterations 200 reached. Increase it to improve convergence.\n",
      "  warnings.warn(\n"
     ]
    },
    {
     "name": "stdout",
     "output_type": "stream",
     "text": [
      "Applying NMF for k=62 ...\n",
      "Applying NMF for k=63 ...\n"
     ]
    },
    {
     "name": "stderr",
     "output_type": "stream",
     "text": [
      "/Users/wibe/Library/Python/3.8/lib/python/site-packages/sklearn/decomposition/_nmf.py:1665: ConvergenceWarning: Maximum number of iterations 200 reached. Increase it to improve convergence.\n",
      "  warnings.warn(\n"
     ]
    },
    {
     "name": "stdout",
     "output_type": "stream",
     "text": [
      "Applying NMF for k=64 ...\n"
     ]
    },
    {
     "name": "stderr",
     "output_type": "stream",
     "text": [
      "/Users/wibe/Library/Python/3.8/lib/python/site-packages/sklearn/decomposition/_nmf.py:1665: ConvergenceWarning: Maximum number of iterations 200 reached. Increase it to improve convergence.\n",
      "  warnings.warn(\n"
     ]
    },
    {
     "name": "stdout",
     "output_type": "stream",
     "text": [
      "Applying NMF for k=65 ...\n",
      "Applying NMF for k=66 ...\n",
      "Applying NMF for k=67 ...\n"
     ]
    },
    {
     "name": "stderr",
     "output_type": "stream",
     "text": [
      "/Users/wibe/Library/Python/3.8/lib/python/site-packages/sklearn/decomposition/_nmf.py:1665: ConvergenceWarning: Maximum number of iterations 200 reached. Increase it to improve convergence.\n",
      "  warnings.warn(\n"
     ]
    },
    {
     "name": "stdout",
     "output_type": "stream",
     "text": [
      "Applying NMF for k=68 ...\n"
     ]
    },
    {
     "name": "stderr",
     "output_type": "stream",
     "text": [
      "/Users/wibe/Library/Python/3.8/lib/python/site-packages/sklearn/decomposition/_nmf.py:1665: ConvergenceWarning: Maximum number of iterations 200 reached. Increase it to improve convergence.\n",
      "  warnings.warn(\n"
     ]
    },
    {
     "name": "stdout",
     "output_type": "stream",
     "text": [
      "Applying NMF for k=69 ...\n",
      "Applying NMF for k=70 ...\n",
      "Applying NMF for k=71 ...\n",
      "Applying NMF for k=72 ...\n",
      "Applying NMF for k=73 ...\n",
      "Applying NMF for k=74 ...\n"
     ]
    },
    {
     "name": "stderr",
     "output_type": "stream",
     "text": [
      "/Users/wibe/Library/Python/3.8/lib/python/site-packages/sklearn/decomposition/_nmf.py:1665: ConvergenceWarning: Maximum number of iterations 200 reached. Increase it to improve convergence.\n",
      "  warnings.warn(\n"
     ]
    },
    {
     "name": "stdout",
     "output_type": "stream",
     "text": [
      "Applying NMF for k=75 ...\n"
     ]
    },
    {
     "name": "stderr",
     "output_type": "stream",
     "text": [
      "/Users/wibe/Library/Python/3.8/lib/python/site-packages/sklearn/decomposition/_nmf.py:1665: ConvergenceWarning: Maximum number of iterations 200 reached. Increase it to improve convergence.\n",
      "  warnings.warn(\n"
     ]
    },
    {
     "name": "stdout",
     "output_type": "stream",
     "text": [
      "Applying NMF for k=76 ...\n",
      "Applying NMF for k=77 ...\n",
      "Applying NMF for k=78 ...\n",
      "Applying NMF for k=79 ...\n"
     ]
    },
    {
     "name": "stderr",
     "output_type": "stream",
     "text": [
      "/Users/wibe/Library/Python/3.8/lib/python/site-packages/sklearn/decomposition/_nmf.py:1665: ConvergenceWarning: Maximum number of iterations 200 reached. Increase it to improve convergence.\n",
      "  warnings.warn(\n"
     ]
    },
    {
     "name": "stdout",
     "output_type": "stream",
     "text": [
      "Applying NMF for k=80 ...\n"
     ]
    },
    {
     "name": "stderr",
     "output_type": "stream",
     "text": [
      "/Users/wibe/Library/Python/3.8/lib/python/site-packages/sklearn/decomposition/_nmf.py:1665: ConvergenceWarning: Maximum number of iterations 200 reached. Increase it to improve convergence.\n",
      "  warnings.warn(\n"
     ]
    },
    {
     "name": "stdout",
     "output_type": "stream",
     "text": [
      "Applying NMF for k=81 ...\n",
      "Applying NMF for k=82 ...\n",
      "Applying NMF for k=83 ...\n",
      "Applying NMF for k=84 ...\n"
     ]
    },
    {
     "name": "stderr",
     "output_type": "stream",
     "text": [
      "/Users/wibe/Library/Python/3.8/lib/python/site-packages/sklearn/decomposition/_nmf.py:1665: ConvergenceWarning: Maximum number of iterations 200 reached. Increase it to improve convergence.\n",
      "  warnings.warn(\n"
     ]
    },
    {
     "name": "stdout",
     "output_type": "stream",
     "text": [
      "Applying NMF for k=85 ...\n",
      "Applying NMF for k=86 ...\n",
      "Applying NMF for k=87 ...\n",
      "Applying NMF for k=88 ...\n"
     ]
    },
    {
     "name": "stderr",
     "output_type": "stream",
     "text": [
      "/Users/wibe/Library/Python/3.8/lib/python/site-packages/sklearn/decomposition/_nmf.py:1665: ConvergenceWarning: Maximum number of iterations 200 reached. Increase it to improve convergence.\n",
      "  warnings.warn(\n"
     ]
    },
    {
     "name": "stdout",
     "output_type": "stream",
     "text": [
      "Applying NMF for k=89 ...\n",
      "Applying NMF for k=90 ...\n",
      "Applying NMF for k=91 ...\n",
      "Applying NMF for k=92 ...\n",
      "Applying NMF for k=93 ...\n",
      "Applying NMF for k=94 ...\n",
      "Applying NMF for k=95 ...\n",
      "Applying NMF for k=96 ...\n",
      "Applying NMF for k=97 ...\n",
      "Applying NMF for k=98 ...\n",
      "Applying NMF for k=99 ...\n",
      "Applying NMF for k=100 ...\n"
     ]
    }
   ],
   "source": [
    "topic_models = []\n",
    "# try each value of k\n",
    "for k in range(kmin,kmax+1):\n",
    "    print(\"Applying NMF for k=%d ...\" % k )\n",
    "    # run NMF\n",
    "    model = decomposition.NMF( init=\"nndsvd\", n_components=k ) \n",
    "    W = model.fit_transform( A )\n",
    "    H = model.components_    \n",
    "    # store for later\n",
    "    topic_models.append( (k,W,H) )"
   ]
  },
  {
   "cell_type": "markdown",
   "metadata": {},
   "source": [
    "### Build a Word Embedding"
   ]
  },
  {
   "cell_type": "markdown",
   "metadata": {},
   "source": [
    "To select the number of topics, here we will use a *topic coherence* measure called TC-W2V. This measure relies on the use of a *word embedding* model constructed from our corpus. So in this step we will use the *Gensim* implementation of Word2Vec to build a Word2Vec model based on our collection of news articles."
   ]
  },
  {
   "cell_type": "markdown",
   "metadata": {},
   "source": [
    "We read the documents from the input file again:"
   ]
  },
  {
   "cell_type": "code",
   "execution_count": 16,
   "metadata": {},
   "outputs": [
    {
     "name": "stdout",
     "output_type": "stream",
     "text": [
      "Read 5748 raw text documents\n"
     ]
    }
   ],
   "source": [
    "in_path = Path(\"data\") / \"tweets_data_temp.txt\"\n",
    "raw_documents = []\n",
    "with open(in_path, \"r\") as fin:\n",
    "    # each line is a document\n",
    "    for line in fin.readlines():\n",
    "        raw_documents.append( line.strip().lower() )\n",
    "print(\"Read %d raw text documents\" % len(raw_documents))"
   ]
  },
  {
   "cell_type": "markdown",
   "metadata": {},
   "source": [
    "Read the custom stopword list:"
   ]
  },
  {
   "cell_type": "code",
   "execution_count": 17,
   "metadata": {},
   "outputs": [
    {
     "name": "stdout",
     "output_type": "stream",
     "text": [
      "Stopword list has 262 entries\n"
     ]
    }
   ],
   "source": [
    "in_path = Path(\"data\") / \"stopord.txt\"\n",
    "custom_stop_words = []\n",
    "with open( in_path, \"r\" ) as fin:\n",
    "    for line in fin.readlines():\n",
    "        custom_stop_words.append(line.strip().lower())\n",
    "# note that we need to make it hashable\n",
    "print(\"Stopword list has %d entries\" % len(custom_stop_words) )"
   ]
  },
  {
   "cell_type": "markdown",
   "metadata": {},
   "source": [
    "First, we need to define a class that will generate documents in a form that can be consumed by Gensim's Word2Vec implementation:"
   ]
  },
  {
   "cell_type": "code",
   "execution_count": 18,
   "metadata": {},
   "outputs": [],
   "source": [
    "class TokenGenerator:\n",
    "    def __init__( self, documents, stopwords ):\n",
    "        self.documents = documents\n",
    "        self.stopwords = stopwords\n",
    "        self.tokenizer = re.compile( r\"(?u)\\b\\w\\w+\\b\" )\n",
    "\n",
    "    def __iter__( self ):\n",
    "        print(\"Building Word2Vec model ...\")\n",
    "        for doc in self.documents:\n",
    "            tokens = []\n",
    "            for tok in self.tokenizer.findall( doc ):\n",
    "                if tok in self.stopwords:\n",
    "                    tokens.append( \"<stopword>\" )\n",
    "                elif len(tok) >= 2:\n",
    "                    tokens.append( tok )\n",
    "            yield tokens"
   ]
  },
  {
   "cell_type": "markdown",
   "metadata": {},
   "source": [
    "Now build a Skipgram Word2Vec model from all documents in the input file using *Gensim*:"
   ]
  },
  {
   "cell_type": "code",
   "execution_count": 19,
   "metadata": {},
   "outputs": [
    {
     "name": "stdout",
     "output_type": "stream",
     "text": [
      "Building Word2Vec model ...\n",
      "Building Word2Vec model ...\n",
      "Building Word2Vec model ...\n",
      "Building Word2Vec model ...\n",
      "Building Word2Vec model ...\n",
      "Building Word2Vec model ...\n"
     ]
    }
   ],
   "source": [
    "docgen = TokenGenerator( raw_documents, custom_stop_words )\n",
    "# the model has 500 dimensions, the minimum document-term frequency is 20\n",
    "w2v_model = gensim.models.Word2Vec(docgen, vector_size=500, min_count=20, sg=1) #sg = SkipGram"
   ]
  },
  {
   "cell_type": "code",
   "execution_count": 20,
   "metadata": {},
   "outputs": [
    {
     "name": "stdout",
     "output_type": "stream",
     "text": [
      "Model has 299 terms\n"
     ]
    }
   ],
   "source": [
    "print(\"Model has %d terms\" % len(w2v_model.wv.key_to_index))"
   ]
  },
  {
   "attachments": {},
   "cell_type": "markdown",
   "metadata": {},
   "source": [
    "Optional: Save for later use, so that we do not need to rebuild it:"
   ]
  },
  {
   "cell_type": "code",
   "execution_count": 21,
   "metadata": {},
   "outputs": [],
   "source": [
    "# w2v_model.save(\"w2v-model.bin\")"
   ]
  },
  {
   "cell_type": "code",
   "execution_count": 22,
   "metadata": {},
   "outputs": [],
   "source": [
    "# To re-load this model, run\n",
    "#w2v_model = gensim.models.Word2Vec.load(\"w2v-model.bin\")"
   ]
  },
  {
   "cell_type": "markdown",
   "metadata": {},
   "source": [
    "### Selecting the Number of Topics"
   ]
  },
  {
   "cell_type": "markdown",
   "metadata": {
    "collapsed": true
   },
   "source": [
    "Once we have our Word2vec model, we can use it as part of our *topic coherence* approach to evaluate the different NMF topic models that we created previously. To do this, we will implement a simple version of the TC-W2V coherence measure."
   ]
  },
  {
   "cell_type": "markdown",
   "metadata": {},
   "source": [
    "We use the Word2vec model to calculate coherence scores for each of these models. We will define this coherence score as follows:"
   ]
  },
  {
   "cell_type": "code",
   "execution_count": 23,
   "metadata": {},
   "outputs": [],
   "source": [
    "def calculate_coherence( w2v_model, term_rankings ):\n",
    "    overall_coherence = 0.0\n",
    "    for topic_index in range(len(term_rankings)):\n",
    "        # check each pair of terms\n",
    "        pair_scores = []\n",
    "        for pair in combinations( term_rankings[topic_index], 2 ):\n",
    "            pair_scores.append( w2v_model.wv.similarity(pair[0], pair[1]) )\n",
    "        # get the mean for all pairs in this topic\n",
    "        topic_score = sum(pair_scores) / len(pair_scores)\n",
    "        overall_coherence += topic_score\n",
    "    # get the mean score across all topics\n",
    "    return overall_coherence / len(term_rankings)"
   ]
  },
  {
   "cell_type": "markdown",
   "metadata": {},
   "source": [
    "We also define a function to get the topic descriptor (i.e. list of top terms) for each topic:"
   ]
  },
  {
   "cell_type": "code",
   "execution_count": 24,
   "metadata": {},
   "outputs": [],
   "source": [
    "def get_descriptor( all_terms, H, topic_index, top ):\n",
    "    # reverse sort the values to sort the indices\n",
    "    top_indices = np.argsort( H[topic_index,:] )[::-1]\n",
    "    # now get the terms corresponding to the top-ranked indices\n",
    "    top_terms = []\n",
    "    for term_index in top_indices[0:top]:\n",
    "        top_terms.append( all_terms[term_index] )\n",
    "    return top_terms"
   ]
  },
  {
   "cell_type": "markdown",
   "metadata": {},
   "source": [
    "Now process each of the models for different values of *k*:"
   ]
  },
  {
   "cell_type": "code",
   "execution_count": 25,
   "metadata": {},
   "outputs": [
    {
     "name": "stdout",
     "output_type": "stream",
     "text": [
      "K=04: Coherence=0.9382\n",
      "K=05: Coherence=0.9548\n",
      "K=06: Coherence=0.9612\n",
      "K=07: Coherence=0.9650\n",
      "K=08: Coherence=0.9679\n",
      "K=09: Coherence=0.9700\n",
      "K=10: Coherence=0.9707\n",
      "K=11: Coherence=0.9694\n",
      "K=12: Coherence=0.9716\n",
      "K=13: Coherence=0.9726\n",
      "K=14: Coherence=0.9724\n",
      "K=15: Coherence=0.9732\n",
      "K=16: Coherence=0.9741\n",
      "K=17: Coherence=0.9744\n",
      "K=18: Coherence=0.9735\n",
      "K=19: Coherence=0.9764\n",
      "K=20: Coherence=0.9734\n",
      "K=21: Coherence=0.9741\n",
      "K=22: Coherence=0.9739\n",
      "K=23: Coherence=0.9744\n",
      "K=24: Coherence=0.9725\n",
      "K=25: Coherence=0.9739\n",
      "K=26: Coherence=0.9743\n",
      "K=27: Coherence=0.9766\n",
      "K=28: Coherence=0.9764\n",
      "K=29: Coherence=0.9780\n",
      "K=30: Coherence=0.9775\n",
      "K=31: Coherence=0.9783\n",
      "K=32: Coherence=0.9790\n",
      "K=33: Coherence=0.9798\n",
      "K=34: Coherence=0.9797\n",
      "K=35: Coherence=0.9801\n",
      "K=36: Coherence=0.9811\n",
      "K=37: Coherence=0.9813\n",
      "K=38: Coherence=0.9814\n",
      "K=39: Coherence=0.9820\n",
      "K=40: Coherence=0.9817\n",
      "K=41: Coherence=0.9827\n",
      "K=42: Coherence=0.9818\n",
      "K=43: Coherence=0.9829\n",
      "K=44: Coherence=0.9831\n",
      "K=45: Coherence=0.9827\n",
      "K=46: Coherence=0.9831\n",
      "K=47: Coherence=0.9836\n",
      "K=48: Coherence=0.9832\n",
      "K=49: Coherence=0.9831\n",
      "K=50: Coherence=0.9831\n",
      "K=51: Coherence=0.9842\n",
      "K=52: Coherence=0.9830\n",
      "K=53: Coherence=0.9848\n",
      "K=54: Coherence=0.9836\n",
      "K=55: Coherence=0.9847\n",
      "K=56: Coherence=0.9855\n",
      "K=57: Coherence=0.9846\n",
      "K=58: Coherence=0.9847\n",
      "K=59: Coherence=0.9850\n",
      "K=60: Coherence=0.9858\n",
      "K=61: Coherence=0.9849\n",
      "K=62: Coherence=0.9859\n",
      "K=63: Coherence=0.9852\n",
      "K=64: Coherence=0.9851\n",
      "K=65: Coherence=0.9857\n",
      "K=66: Coherence=0.9854\n",
      "K=67: Coherence=0.9861\n",
      "K=68: Coherence=0.9862\n",
      "K=69: Coherence=0.9858\n",
      "K=70: Coherence=0.9863\n",
      "K=71: Coherence=0.9869\n",
      "K=72: Coherence=0.9865\n",
      "K=73: Coherence=0.9863\n",
      "K=74: Coherence=0.9867\n",
      "K=75: Coherence=0.9870\n",
      "K=76: Coherence=0.9871\n",
      "K=77: Coherence=0.9875\n",
      "K=78: Coherence=0.9876\n",
      "K=79: Coherence=0.9882\n",
      "K=80: Coherence=0.9881\n",
      "K=81: Coherence=0.9881\n",
      "K=82: Coherence=0.9873\n",
      "K=83: Coherence=0.9876\n",
      "K=84: Coherence=0.9883\n",
      "K=85: Coherence=0.9887\n",
      "K=86: Coherence=0.9886\n",
      "K=87: Coherence=0.9881\n",
      "K=88: Coherence=0.9884\n",
      "K=89: Coherence=0.9883\n",
      "K=90: Coherence=0.9885\n",
      "K=91: Coherence=0.9886\n",
      "K=92: Coherence=0.9890\n",
      "K=93: Coherence=0.9888\n",
      "K=94: Coherence=0.9893\n",
      "K=95: Coherence=0.9882\n",
      "K=96: Coherence=0.9891\n",
      "K=97: Coherence=0.9890\n",
      "K=98: Coherence=0.9889\n",
      "K=99: Coherence=0.9893\n",
      "K=100: Coherence=0.9886\n"
     ]
    }
   ],
   "source": [
    "k_values = []\n",
    "coherences = []\n",
    "for (k,W,H) in topic_models:\n",
    "    # Get all of the topic descriptors - the term_rankings, based on top 10 terms\n",
    "    term_rankings = []\n",
    "    for topic_index in range(k):\n",
    "        term_rankings.append( get_descriptor( terms, H, topic_index, 10 ) )\n",
    "    # Now calculate the coherence based on our Word2vec model\n",
    "    k_values.append( k )\n",
    "    coherences.append( calculate_coherence( w2v_model, term_rankings ) )\n",
    "    print(\"K=%02d: Coherence=%.4f\" % ( k, coherences[-1] ) )"
   ]
  },
  {
   "cell_type": "markdown",
   "metadata": {},
   "source": [
    "We can now use *matplotlib* to generate a line plot of these coherence scores, to help us select an appropriate value."
   ]
  },
  {
   "cell_type": "code",
   "execution_count": 26,
   "metadata": {},
   "outputs": [
    {
     "data": {
      "image/png": "[encoded data removed]",
      "text/plain": [
       "<Figure size 1300x700 with 1 Axes>"
      ]
     },
     "metadata": {},
     "output_type": "display_data"
    }
   ],
   "source": [
    "fig = plt.figure(figsize=(13,7))\n",
    "# create the line plot\n",
    "ax = plt.plot( k_values, coherences )\n",
    "plt.xticks(k_values)\n",
    "plt.xlabel(\"Number of Topics\")\n",
    "plt.ylabel(\"Mean Coherence\")\n",
    "# add the points\n",
    "plt.scatter(k_values, coherences, s=120)\n",
    "# find and annotate the maximum point on the plot\n",
    "ymax = max(coherences)\n",
    "xpos = coherences.index(ymax)\n",
    "best_k = k_values[xpos]\n",
    "plt.annotate(\"k=%d\" % best_k, xy=(best_k, ymax), xytext=(best_k, ymax), textcoords=\"offset points\", fontsize=16)\n",
    "# show the plot\n",
    "plt.show()"
   ]
  },
  {
   "cell_type": "markdown",
   "metadata": {},
   "source": [
    "### Examine the Final  Model"
   ]
  },
  {
   "cell_type": "markdown",
   "metadata": {},
   "source": [
    "The plot above suggests that the most appropriate value for the number of topics is *k=8*."
   ]
  },
  {
   "cell_type": "code",
   "execution_count": 27,
   "metadata": {},
   "outputs": [],
   "source": [
    "k = best_k\n",
    "# get the model that we generated earlier.\n",
    "W = topic_models[k-kmin][1]\n",
    "H = topic_models[k-kmin][2]"
   ]
  },
  {
   "cell_type": "markdown",
   "metadata": {},
   "source": [
    "Display the topic descriptors for this model:"
   ]
  },
  {
   "cell_type": "code",
   "execution_count": 28,
   "metadata": {},
   "outputs": [
    {
     "name": "stdout",
     "output_type": "stream",
     "text": [
      "Topic 01: link, egne, ligger, hvert, mulighed, fedt, land, betaler, arbejder, søndag\n",
      "Topic 02: dkpol, eudk, dkøko, snart, valget, støtte, partier, forslag, regering, gratis\n",
      "Topic 03: user, danmarks, eudk, stemme, kalder, snart, mette, kære, stemmer, største\n",
      "Topic 04: dkmedier, viser, demokrati, laver, nå, fokus, morgen, holder, politikere, europa\n",
      "Topic 05: blevet, dage, egentlig, 15, sat, fald, haft, kære, 20, engang\n",
      "Topic 06: sldk, kamp, brøndby, kampen, fans, fck, gik, gået, aftale, fokus\n",
      "Topic 07: dag, 30, kort, politisk, snart, viser, gået, blot, slags, sikkert\n",
      "Topic 08: tror, viser, danskere, bestemt, sociale, desværre, svar, sagt, vælgerne, aftale\n",
      "Topic 09: nye, fald, europa, viser, valget, kort, side, læse, danskere, krav\n",
      "Topic 10: år, 20, seneste, 30, 15, hvert, snart, gamle, hjem, haft\n",
      "Topic 11: danmark, verden, håber, offentlige, nyheder, stå, seneste, parti, 000, ønsker\n",
      "Topic 12: df, væk, politiske, vælgerne, slet, forkert, regering, gik, regeringen, stemmer\n",
      "Topic 13: første, 15, desværre, dage, danmarks, hvert, tvivl, politisk, demokrati, taget\n",
      "Topic 14: ret, vildt, lov, desværre, politiet, give, sidder, politikere, sikker, ønsker\n",
      "Topic 15: tak, sagt, arbejder, svar, glad, blot, aarhus, twitter, lars, bl\n",
      "Topic 16: tv, én, kamp, forskellige, tæt, grad, fans, spiller, bruger, danskere\n",
      "Topic 17: fået, kommet, skyld, videre, læse, tro, politiet, håber, kalder, ekstra\n",
      "Topic 18: læs, forstå, mangler, partier, forkert, ytringsfrihed, holde, grad, europa, regeringen\n",
      "Topic 19: siger, læse, ca, krav, problemet, tro, brøndby, haft, nå, offentlige\n",
      "Topic 20: dkgreen, laver, viser, forslag, desværre, ekstra, største, kommet, svar, millioner\n",
      "Topic 21: pldk, al, spiller, haft, danskere, vildt, twitter, læse, bestemt, fc\n",
      "Topic 22: danske, partier, ønsker, arbejder, virkelig, største, vildt, laver, politikere, spiller\n",
      "Topic 23: enig, kalder, desværre, spiller, sikkert, én, dkøko, handler, problemet, sag\n",
      "Topic 24: gerne, kamp, kort, side, lov, give, kører, partier, sidder, børnene\n",
      "Topic 25: mener, forstår, problemet, egentlig, ønsker, løkke, viser, forslag, forstå, hvert\n",
      "Topic 26: rt, kære, user, holder, børnene, fc, tæt, 000, lov, fedt\n",
      "Topic 27: hele, tiden, verden, taget, vejen, glad, regeringen, nå, én, københavn\n",
      "Topic 28: vel, hverken, lov, forkert, 100, problemet, tvivl, mening, støtte, haft\n",
      "Topic 29: gå, lade, virkelig, lov, gratis, stå, engang, regering, bestemt, mangler\n",
      "Topic 30: folk, forstår, skabe, sagt, kalder, fans, grad, vigtigt, europa, gik\n",
      "Topic 31: bedre, sagt, stemme, forhold, politikere, tro, sikker, fald, blot, tiden\n",
      "Topic 32: eu, eudk, europa, mon, valget, finde, regeringen, dage, bestemt, ca\n",
      "Topic 33: del, finde, danmarks, betaler, politikerne, virkelig, desværre, handler, ord, håber\n",
      "Topic 34: tid, lang, kort, 30, mette, seneste, sætte, tiden, kører, én\n",
      "Topic 35: dansk, partier, kommet, politisk, regeringen, lov, demokrati, forhold, mon, kender\n",
      "Topic 36: sidste, uge, dage, gik, valget, nå, videre, respekt, land, mandag\n",
      "Topic 37: faktisk, rent, gratis, handler, tro, skrevet, viser, nå, stemmer, kommet\n",
      "Topic 38: går, forstår, laver, længe, problemet, desværre, lang, folketinget, børnene, tweet\n",
      "Topic 39: giver, mening, ekstra, aftale, give, uanset, københavn, større, svar, bestemt\n",
      "Topic 40: paludan, rasmus, nørrebro, politiet, ytringsfrihed, holder, stemme, hverken, lade, væk\n",
      "Topic 41: artikel, plus, 13, største, hjem, danmarks, dkøko, uddannelse, dage, politiet\n",
      "Topic 42: tager, lang, europa, virkelig, sikker, ok, brøndby, sagt, forskellige, sætte\n",
      "Topic 43: altså, gamle, vildt, kræver, gik, lov, sætte, fint, millioner, twitter\n",
      "Topic 44: set, stort, fald, hvert, holder, verden, par, ligger, twitter, ca\n",
      "Topic 45: klar, kamp, give, uddannelse, gamle, spiller, finde, seneste, vælgerne, tæt\n",
      "Topic 46: bedste, kamp, engang, slet, twitter, søndag, forstår, håber, desværre, længe\n",
      "Topic 47: tænker, sikker, søndag, handler, vide, arbejder, taler, parti, håber, bestemt\n",
      "Topic 48: børn, 30, problemet, børnene, uddannelse, desværre, forstå, sidder, ønsker, give\n",
      "Topic 49: langt, væk, vejen, hjælpe, videre, gået, verden, større, sikker, mangler\n",
      "Topic 50: penge, give, politikere, dkøko, hjem, spiller, hjælpe, side, sikker, taler\n",
      "Topic 51: bruge, laver, desværre, ok, slags, par, fedt, demokrati, forskel, forstår\n",
      "Topic 52: svært, forstår, gange, venstre, enige, sikker, tro, fck, finde, kommet\n",
      "Topic 53: valg, valget, stemme, muligt, regeringen, taget, aftale, side, egne, gik\n",
      "Topic 54: kæmpe, problem, aftale, bestemt, holder, fck, forhold, ytringsfrihed, respekt, desværre\n",
      "Topic 55: inden, længe, eudk, laver, betyder, lang, ønsker, mon, fald, gange\n",
      "Topic 56: mennesker, findes, ønsker, hjælpe, tweet, virkelig, bl, slet, sidder, rent\n",
      "Topic 57: politik, mette, parti, politiske, venstre, vælgerne, stemme, uanset, egentlig, stemmer\n",
      "Topic 58: sundpol, største, laver, taler, handler, arbejder, læse, fokus, regeringen, grad\n",
      "Topic 59: hold, sker, fans, hverken, grad, fck, skyld, ligger, én, forstår\n",
      "Topic 60: frem, nå, politiske, snart, stå, fint, bl, brøndby, grad, glad\n",
      "Topic 61: står, største, væk, kræver, kører, verden, sker, ord, 20, folketinget\n",
      "Topic 62: politidk, nyheder, seneste, verden, aarhus, twitter, politiet, danskere, gik, al\n",
      "Topic 63: direkte, kampe, fodbold, twitter, gratis, morgen, laver, især, sker, findes\n",
      "Topic 64: virker, læse, rundt, verden, vildt, kampen, partier, tiden, side, politisk\n",
      "Topic 65: dkbiz, dkøko, 2019, lars, politiske, fokus, mandag, amp, løkke, betyder\n",
      "Topic 66: vist, taler, ord, uge, brøndby, regering, desværre, finde, kampen, ønsker\n",
      "Topic 67: sgu, holder, gik, politiske, håber, vide, respekt, fedt, støtte, hjem\n",
      "Topic 68: ude, kamp, kampen, kære, forstå, arbejder, parti, slet, mening, sidder\n",
      "Topic 69: tale, sidder, lade, blot, ytringsfrihed, al, par, egentlig, problem, virkelig\n",
      "Topic 70: selvfølgelig, aftale, folketinget, lade, politiet, 100, problemet, fint, twitter, hjælpe\n",
      "Topic 71: præcis, haft, betyder, tweet, gik, kampen, kalder, én, skrevet, ligger\n",
      "Topic 72: the, politisk, sætte, problem, tæt, skrevet, brøndby, spiller, parti, håber\n",
      "Topic 73: rigtig, kamp, forskel, tvivl, ord, ok, kalder, mon, fint, kræver\n",
      "Topic 74: dk, forkert, desværre, data, politiske, uanset, taler, støtte, sociale, aftale\n",
      "Topic 75: unge, seneste, især, vigtigt, gange, fedt, danskere, fokus, mangler, uanset\n",
      "Topic 76: plads, amp, gået, holder, rundt, virkelig, seneste, give, laver, politikere\n",
      "Topic 77: gode, findes, kl, grad, forskellige, vigtigt, kræver, gamle, forskel, fck\n",
      "Topic 78: gang, én, findes, taget, sætte, holder, haft, enige, morgen, ekstra\n",
      "Topic 79: både, politiet, gået, sikkert, venstre, tvivl, offentlige, krav, støtte, sagt\n",
      "Topic 80: kr, 000, 100, slet, 20, ca, skat, betaler, tro, millioner\n",
      "Topic 81: mål, fc, brøndby, fck, kampen, vildt, københavn, kommet, tro, krav\n",
      "Topic 82: fv19, ligger, ord, venstre, ønsker, regering, give, tæt, 30, desværre\n",
      "Topic 83: tillykke, stort, problem, brøndby, kære, problemet, mangler, forkert, politiske, fans\n",
      "Topic 84: netop, betyder, største, mette, forkert, længe, folketinget, uge, tweet, partier\n",
      "Topic 85: ting, verden, én, skyld, forstår, slet, ok, vide, sætte, sociale\n",
      "Topic 86: arbejde, væk, kort, al, tæt, engang, forslag, 2019, vejen, 000\n",
      "Topic 87: aften, københavn, mandag, kl, håber, snart, 15, danmarks, ord, søndag\n",
      "Topic 88: høre, glad, fedt, sidder, hvert, fald, snart, væk, engang, politikerne\n",
      "Topic 89: stedet, holde, holder, finde, hjælpe, respekt, forstår, taler, forhold, nørrebro\n",
      "Topic 90: uddpol, regeringen, millioner, uddannelse, aarhus, forslag, morgen, mette, kører, grad\n",
      "Topic 91: klart, mette, handler, ønsker, snart, haft, partier, mangler, nørrebro, fald\n",
      "Topic 92: bruger, overhovedet, muligt, findes, gange, kampen, betyder, ord, politiet, mon\n",
      "Topic 93: brug, slags, eudk, rundt, ligger, svar, tæt, holder, regeringen, vide\n",
      "Topic 94: spørgsmål, svar, mette, taler, lars, twitter, forstår, løkke, findes, politisk\n",
      "Topic 95: debat, politisk, virkelig, mulighed, offentlige, kamp, skyld, spændende, taget, gange\n",
      "Topic 96: 10, kl, glad, 30, danskere, slags, europa, gange, taget, uge\n",
      "Topic 97: skriver, medier, give, 2019, sociale, problem, taget, tweet, sker, finde\n",
      "Topic 98: vej, spændende, hjælpe, mangler, folketinget, slags, eudk, vigtigt, forstå, kræver\n",
      "Topic 99: måde, sagt, kort, viser, finde, skrevet, problemet, skabe, taler, kender\n"
     ]
    }
   ],
   "source": [
    "for topic_index in range(k):\n",
    "    descriptor = get_descriptor(terms, H, topic_index, 10)\n",
    "    str_descriptor = \", \".join( descriptor )\n",
    "    print(\"Topic %02d: %s\" % (topic_index+1, str_descriptor) )"
   ]
  },
  {
   "attachments": {},
   "cell_type": "markdown",
   "metadata": {},
   "source": [
    "Although 30 is the recommended number, it is simply too many topics to be able to make sense of. Considering the relatively small improvement from 10 to 30 topics (0.1) and the advantage of having only 10 topics, we take a look at the data for 10 topics:"
   ]
  },
  {
   "cell_type": "code",
   "execution_count": 29,
   "metadata": {},
   "outputs": [
    {
     "name": "stdout",
     "output_type": "stream",
     "text": [
      "Topic 01: link, egne, ligger, hvert, mulighed, fedt, land, betaler, arbejder, søndag\n",
      "Topic 02: dkpol, eudk, dkøko, snart, valget, støtte, partier, forslag, regering, gratis\n",
      "Topic 03: user, danmarks, eudk, stemme, kalder, snart, mette, kære, stemmer, største\n",
      "Topic 04: dkmedier, viser, demokrati, laver, nå, fokus, morgen, holder, politikere, europa\n",
      "Topic 05: blevet, dage, egentlig, 15, sat, fald, haft, kære, 20, engang\n",
      "Topic 06: sldk, kamp, brøndby, kampen, fans, fck, gik, gået, aftale, fokus\n",
      "Topic 07: dag, 30, kort, politisk, snart, viser, gået, blot, slags, sikkert\n",
      "Topic 08: tror, viser, danskere, bestemt, sociale, desværre, svar, sagt, vælgerne, aftale\n",
      "Topic 09: nye, fald, europa, viser, valget, kort, side, læse, danskere, krav\n",
      "Topic 10: år, 20, seneste, 30, 15, hvert, snart, gamle, hjem, haft\n"
     ]
    }
   ],
   "source": [
    "for topic_index in range(10):\n",
    "    descriptor = get_descriptor(terms, H, topic_index, 10)\n",
    "    str_descriptor = \", \".join( descriptor )\n",
    "    print(\"Topic %02d: %s\" % (topic_index+1, str_descriptor) )"
   ]
  },
  {
   "cell_type": "code",
   "execution_count": null,
   "metadata": {},
   "outputs": [],
   "source": []
  }
 ],
 "metadata": {
  "kernelspec": {
   "display_name": "Python 3",
   "language": "python",
   "name": "python3"
  },
  "language_info": {
   "codemirror_mode": {
    "name": "ipython",
    "version": 3
   },
   "file_extension": ".py",
   "mimetype": "text/x-python",
   "name": "python",
   "nbconvert_exporter": "python",
   "pygments_lexer": "ipython3",
   "version": "3.8.2"
  },
  "vscode": {
   "interpreter": {
    "hash": "31f2aee4e71d21fbe5cf8b01ff0e069b9275f58929596ceb00d14d90e3e16cd6"
   }
  }
 },
 "nbformat": 4,
 "nbformat_minor": 2
}
